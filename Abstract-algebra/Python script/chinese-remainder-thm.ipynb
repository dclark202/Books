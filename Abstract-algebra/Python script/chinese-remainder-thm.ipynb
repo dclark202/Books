{
 "cells": [
  {
   "cell_type": "code",
   "execution_count": 1,
   "id": "722ced67-74bc-429b-9baf-b5c3609eb56c",
   "metadata": {},
   "outputs": [],
   "source": [
    "## Gotta have it\n",
    "def gen_euc_alg(n, m):\n",
    "    old_r, r = n, m\n",
    "    old_s, s = 1, 0\n",
    "    old_t, t = 0, 1\n",
    "\n",
    "    while r > 0:\n",
    "        q = old_r // r\n",
    "\n",
    "        old_r, r = r, old_r - q * r\n",
    "        old_s, s = s, old_s - q * s\n",
    "        old_t, t = t, old_t - q * t\n",
    "\n",
    "    return old_s, old_t, old_r"
   ]
  },
  {
   "cell_type": "code",
   "execution_count": 2,
   "id": "4d4f5866-fbae-46c3-abe0-d0806860e1ee",
   "metadata": {},
   "outputs": [],
   "source": [
    "# Solution to x=a (mod m) and x=b (mod n) in Z/(mn)\n",
    "# Returns [sol, n*m]\n",
    "def crt(eq1:list, eq2:list, show_calc=True):\n",
    "    a, m = eq1\n",
    "    b, n = eq2\n",
    "    s, t, r = gen_euc_alg(n, m) \n",
    "    \n",
    "    if r != 1: \n",
    "        print(f'(!) The gcd of {m} and {n} is {r}. No solution')\n",
    "        return [0, 0]\n",
    "\n",
    "    y = t * (b - a) % n\n",
    "    sol = y * m + a \n",
    "    \n",
    "    if show_calc:\n",
    "        print(f'The system x = {a} (mod {m}) and x = {b} (mod {n}) has solution x = {sol} (mod {m*n})')\n",
    "    return sol, n * m"
   ]
  },
  {
   "cell_type": "code",
   "execution_count": 3,
   "id": "dd9e739b-dc9c-4901-8330-d0757d916a1f",
   "metadata": {},
   "outputs": [
    {
     "name": "stdout",
     "output_type": "stream",
     "text": [
      "The system x = 17 (mod 35) and x = 4 (mod 11) has solution x = 367 (mod 385)\n"
     ]
    }
   ],
   "source": [
    "a, n = crt([17,35], [4,11])"
   ]
  },
  {
   "cell_type": "code",
   "execution_count": 4,
   "id": "f7d2015a-9a3d-4903-ae01-47be72f54fc1",
   "metadata": {},
   "outputs": [
    {
     "name": "stdout",
     "output_type": "stream",
     "text": [
      "{1, 11, 5, 7}\n"
     ]
    }
   ],
   "source": [
    "## For coprime m, n you can use CRT to find all solutions to an equation\n",
    "## f(x) = 0 (mod mn)\n",
    "## by solving the equation independently for m, n\n",
    "m = 3\n",
    "n = 4\n",
    "\n",
    "## The equation here is x^2 = 1 (mod 12) which has factors m=3, n=4\n",
    "sol_m = [1, 2]\n",
    "sol_n = [1, 3]\n",
    "\n",
    "## Hold solutions here\n",
    "solns = set()\n",
    "\n",
    "for a in sol_m:\n",
    "    for b in sol_n:\n",
    "        x, y = crt([a, m], [b, n], show_calc=False)\n",
    "        solns.add(x)\n",
    "\n",
    "print(solns)"
   ]
  },
  {
   "cell_type": "code",
   "execution_count": 5,
   "id": "cb3bb0a4-b667-4a0e-94ca-aca6ce232004",
   "metadata": {},
   "outputs": [],
   "source": [
    "# Simulataneous solutions to  a system of equation x = a_i (mod n_i) for i = 1, ..., l\n",
    "# Give this a sequence of lists [a_i, n_i]\n",
    "# Prove why this works (hint: use induction)\n",
    "def general_crt(*eqs):\n",
    "    a, m = eqs[0]\n",
    "    \n",
    "    print('Inputs:')\n",
    "    print(f'x = {a} (mod {m})')\n",
    "    \n",
    "    for [b, n] in eqs[1:]:\n",
    "        print(f'x = {b} (mod {n})')\n",
    "        s, t, r = gen_euc_alg(n, m) \n",
    "        \n",
    "        if r != 1: \n",
    "            print('(!) Problem: moduli are not coprime')\n",
    "            return [-1, -1]\n",
    "\n",
    "        y = t * (b - a) % n\n",
    "        a = y * m + a \n",
    "        m = m * n\n",
    "\n",
    "    print('\\nSolution:')\n",
    "    print(f'x = {a} (mod {m})')\n",
    "    \n",
    "    return [a, m]"
   ]
  },
  {
   "cell_type": "code",
   "execution_count": 7,
   "id": "a884eefe-2da4-4970-a043-596234396d46",
   "metadata": {},
   "outputs": [
    {
     "name": "stdout",
     "output_type": "stream",
     "text": [
      "Inputs:\n",
      "x = -1 (mod 23)\n",
      "x = 5 (mod 31)\n",
      "x = 16 (mod 43)\n",
      "\n",
      "Solution:\n",
      "x = 5864 (mod 30659)\n"
     ]
    }
   ],
   "source": [
    "#Inputs: [a, n] for equation x = a (mod n)\n",
    "a, n = general_crt([-1, 23], [5, 31], [16, 43])"
   ]
  },
  {
   "cell_type": "code",
   "execution_count": 18,
   "id": "bff2880c-77bb-44bd-aed3-048150dc018a",
   "metadata": {},
   "outputs": [
    {
     "name": "stdout",
     "output_type": "stream",
     "text": [
      "x^2 = 1 (mod 63) has solutions: {8, 1, 62, 55}\n",
      "x^2 = 2 (mod 63) has solutions: set()\n",
      "x^2 = 4 (mod 63) has solutions: {16, 2, 61, 47}\n",
      "x^2 = 28 (mod 63) has solutions: {35, 28}\n"
     ]
    }
   ],
   "source": [
    "## Answer to inclass problem: x^2 = 1, 2, 4, 28 (mod 63)\n",
    "for ans in [1, 2, 4, 28]:\n",
    "    slns = set()\n",
    "    for i in range(63):\n",
    "        if i**2 % 63 == ans:\n",
    "            slns.add(i)\n",
    "    print(f'x^2 = {ans} (mod 63) has solutions:', slns)\n",
    "    "
   ]
  },
  {
   "cell_type": "code",
   "execution_count": null,
   "id": "7f0c6280-413e-4ea5-9d76-34829e3fd208",
   "metadata": {},
   "outputs": [],
   "source": []
  },
  {
   "cell_type": "code",
   "execution_count": null,
   "id": "1ee19836-c1d5-458f-b3fb-96e37a707f3a",
   "metadata": {},
   "outputs": [],
   "source": []
  }
 ],
 "metadata": {
  "kernelspec": {
   "display_name": "Python 3 (ipykernel)",
   "language": "python",
   "name": "python3"
  },
  "language_info": {
   "codemirror_mode": {
    "name": "ipython",
    "version": 3
   },
   "file_extension": ".py",
   "mimetype": "text/x-python",
   "name": "python",
   "nbconvert_exporter": "python",
   "pygments_lexer": "ipython3",
   "version": "3.12.7"
  }
 },
 "nbformat": 4,
 "nbformat_minor": 5
}
