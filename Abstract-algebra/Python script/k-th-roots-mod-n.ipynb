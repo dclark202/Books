{
 "cells": [
  {
   "cell_type": "code",
   "execution_count": 1,
   "id": "7714c406-be03-4ed4-9f08-532c6346e0be",
   "metadata": {
    "jupyter": {
     "source_hidden": true
    }
   },
   "outputs": [],
   "source": [
    "## Helper functions\n",
    "\n",
    "# Returns Euler's totient function: #{a in Z_n : gcd(a, n) = 1}\n",
    "def totient(n):\n",
    "    if n < 1: return 0\n",
    "        \n",
    "    res = n\n",
    "    i = 2\n",
    "    \n",
    "    while i^2 <= n:\n",
    "        if n % i == 0:\n",
    "            while n % i == 0:\n",
    "                n = n // i\n",
    "            res -= res // i\n",
    "        i += 1\n",
    "\n",
    "    if n > 1: res -= res // n\n",
    "\n",
    "    return res\n",
    "\n",
    "## Good old Euclidean algorithm\n",
    "def gen_euc_alg(n, m):\n",
    "    old_r, r = n, m\n",
    "    old_s, s = 1, 0\n",
    "    old_t, t = 0, 1\n",
    "\n",
    "    while r > 0:\n",
    "        q = old_r // r\n",
    "\n",
    "        old_r, r = r, old_r - q * r\n",
    "        old_s, s = s, old_s - q * s\n",
    "        old_t, t = t, old_t - q * t\n",
    "\n",
    "    return old_s, old_t, old_r\n",
    "\n",
    "# Returns the base 2 expansion of n as a list\n",
    "# n := sum_i powers[i] * 2^i\n",
    "def base_2(n):\n",
    "    powers = []\n",
    "\n",
    "    while n > 0: \n",
    "        powers.append(n % 2)\n",
    "        n = n // 2\n",
    "\n",
    "    return powers"
   ]
  },
  {
   "cell_type": "code",
   "execution_count": 2,
   "id": "ef53ece0-5a95-4b98-9679-0622d50dcb4d",
   "metadata": {
    "jupyter": {
     "source_hidden": true
    }
   },
   "outputs": [],
   "source": [
    "# Evaluates a^k (mod n) by successive squaring\n",
    "def k_power_mod_n(a, k, n, show_calc=True):\n",
    "\n",
    "    # Any a can be reduced mod n right away\n",
    "    a_new = a % n\n",
    "    if a != a_new and show_calc:\n",
    "        print(f'(!) Replacing a = {a} as {a_new} (mod {n})\\n')\n",
    "    a = a_new\n",
    "\n",
    "    # Expand k in base 2\n",
    "    k_base_2 = base_2(k)\n",
    "\n",
    "    # Print k as a power of 2s\n",
    "    k_str = f'{k} = '\n",
    "    \n",
    "    for deg in range(len(k_base_2) - 1):\n",
    "        if k_base_2[deg]: k_str += f'{2**deg} + '\n",
    "    k_str += f'{2**(len(k_base_2) - 1)}'\n",
    "    \n",
    "    if show_calc:\n",
    "        print(f'Calculation:')\n",
    "        print(f'(1) k = {k} in base 2:', k_str)\n",
    "        print()\n",
    "    \n",
    "    # a_powers will store the successive squares of a: a_powers[i] = a^(2^i)\n",
    "    a_powers = [a]\n",
    "    outlist = []\n",
    "    \n",
    "    # Start the expansion of the result as a product of a^(2^i)\n",
    "    if k_base_2[0]: \n",
    "        ans = a\n",
    "        outlist.append((a,a))\n",
    "    else: ans = 1\n",
    "\n",
    "    # Compute powers of a by successive squaring, use the base 2 expansion of k to evaluate\n",
    "    for i in range(1, len(k_base_2)):\n",
    "        a_powers.append(a_powers[i-1]**2 % n)\n",
    "\n",
    "        if k_base_2[i]: \n",
    "            ans = ans * a_powers[i] % n\n",
    "            outlist.append((f'{a}^{2**i}', a_powers[i]))\n",
    "    \n",
    "    # This is all just formatting, if show_calc is enabled you will get a nice\n",
    "    # print out of what is going on.\n",
    "    if show_calc:\n",
    "        print(f'(2) Powers of {a} needed:')     \n",
    "        (sym, num) = outlist[0]\n",
    "        print('   ', sym, '=', num, f' (mod {n})')\n",
    "        outstr = f'{a}^{k} = ' + str(num)\n",
    "       \n",
    "        for i in range(1, len(outlist)):\n",
    "            (sym, num) = outlist[i]\n",
    "            print('   ', sym, '=', num, f' (mod {n})')\n",
    "            outstr += ' * ' + str(num)\n",
    "        print()\n",
    "\n",
    "        print('Answer:')\n",
    "        print(outstr, f'= {ans} (mod {n})')\n",
    "\n",
    "    # Return answer as an integer\n",
    "    return ans\n",
    "    "
   ]
  },
  {
   "cell_type": "code",
   "execution_count": 3,
   "id": "8fffe40f-3316-4696-b75a-772c4f7c96b0",
   "metadata": {},
   "outputs": [
    {
     "name": "stdout",
     "output_type": "stream",
     "text": [
      "Calculation:\n",
      "(1) k = 77 in base 2: 77 = 1 + 4 + 8 + 64\n",
      "\n",
      "(2) Powers of 18 needed:\n",
      "    18 = 18  (mod 313)\n",
      "    18^4 = 121  (mod 313)\n",
      "    18^8 = 243  (mod 313)\n",
      "    18^64 = 3  (mod 313)\n",
      "\n",
      "Answer:\n",
      "18^77 = 18 * 121 * 243 * 3 = 226 (mod 313)\n"
     ]
    },
    {
     "data": {
      "text/plain": [
       "226"
      ]
     },
     "execution_count": 3,
     "metadata": {},
     "output_type": "execute_result"
    }
   ],
   "source": [
    "## Evaluate a^k (mod n)\n",
    "k_power_mod_n(a=18, k=77, n=313, show_calc=True)"
   ]
  },
  {
   "cell_type": "code",
   "execution_count": 4,
   "id": "e2cfe87d-6de7-44b8-85f4-fc10bd13ec56",
   "metadata": {
    "jupyter": {
     "source_hidden": true
    }
   },
   "outputs": [],
   "source": [
    "# Solves the equation x^k = a (mod n)\n",
    "# This particular algorithm works so long as gcd(a, n) = gcd(k, phi(n)) = 1\n",
    "# Can you determine why?\n",
    "def k_root_mod_n(a, k, n, show_calc=True):\n",
    "    # Need the totient of n\n",
    "    phi = totient(n)\n",
    "    _, _, d = gen_euc_alg(a, n)\n",
    "    s, _, r = gen_euc_alg(k, phi)\n",
    "\n",
    "    s = s % phi\n",
    "    \n",
    "    if d != 1:\n",
    "        print(f'Problem: gcd({a}, {n}) is not 1')\n",
    "        return \n",
    "\n",
    "    if r != 1:\n",
    "        print(f'Problem: gcd({k}, phi({n})) is not 1')\n",
    "        return \n",
    "\n",
    "    ans = k_power_mod_n(a, s, n, show_calc=False)\n",
    "\n",
    "    if show_calc:\n",
    "        print('Calculation:')\n",
    "        print(f'(1) phi({n}) = {phi}')\n",
    "        print(f'(2) Inverse of k = {k} (mod phi({n})) is s = {s}')\n",
    "        print(f'(3) x = a^s = {a}^{s} = {ans} (mod {n})')\n",
    "        print(f'\\nAnswer:\\nThe equation x^{k} = {a} (mod {n}) has a solution x = {ans}')\n",
    "        \n",
    "    return ans"
   ]
  },
  {
   "cell_type": "code",
   "execution_count": 4,
   "id": "d993fa4a-5063-4d8d-99bb-943e2923d0d6",
   "metadata": {
    "jupyter": {
     "source_hidden": true
    }
   },
   "outputs": [
    {
     "ename": "NameError",
     "evalue": "name 'k_root_mod_n' is not defined",
     "output_type": "error",
     "traceback": [
      "\u001b[1;31m---------------------------------------------------------------------------\u001b[0m",
      "\u001b[1;31mNameError\u001b[0m                                 Traceback (most recent call last)",
      "Cell \u001b[1;32mIn[4], line 5\u001b[0m\n\u001b[0;32m      3\u001b[0m k \u001b[38;5;241m=\u001b[39m \u001b[38;5;241m5\u001b[39m\n\u001b[0;32m      4\u001b[0m n \u001b[38;5;241m=\u001b[39m \u001b[38;5;241m23\u001b[39m\n\u001b[1;32m----> 5\u001b[0m k_root_mod_n(a, k, n)\n",
      "\u001b[1;31mNameError\u001b[0m: name 'k_root_mod_n' is not defined"
     ]
    }
   ],
   "source": [
    "## Solve for x^k = a (mod n) (if possible)\n",
    "a = 6\n",
    "k = 5\n",
    "n = 23\n",
    "k_root_mod_n(a, k, n)"
   ]
  }
 ],
 "metadata": {
  "kernelspec": {
   "display_name": "Python 3 (ipykernel)",
   "language": "python",
   "name": "python3"
  },
  "language_info": {
   "codemirror_mode": {
    "name": "ipython",
    "version": 3
   },
   "file_extension": ".py",
   "mimetype": "text/x-python",
   "name": "python",
   "nbconvert_exporter": "python",
   "pygments_lexer": "ipython3",
   "version": "3.12.7"
  }
 },
 "nbformat": 4,
 "nbformat_minor": 5
}
