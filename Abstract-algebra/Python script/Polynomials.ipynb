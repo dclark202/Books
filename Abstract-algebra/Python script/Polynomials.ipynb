{
 "cells": [
  {
   "cell_type": "code",
   "execution_count": 1,
   "id": "5d5b6cf2-04bb-4b9c-8bd9-ad93c50b6bf2",
   "metadata": {},
   "outputs": [],
   "source": [
    "# Compute quadratic residues mod n\n",
    "def quad_residues(n):\n",
    "    res = set()\n",
    "    for i in range(n//2 + 1):\n",
    "        res.add(i ** 2 % n)\n",
    "\n",
    "    return res"
   ]
  },
  {
   "cell_type": "code",
   "execution_count": 2,
   "id": "541bcc6f-45ee-477f-8b91-f17ac6961a44",
   "metadata": {},
   "outputs": [
    {
     "name": "stdout",
     "output_type": "stream",
     "text": [
      "2-powers in Z_9\n",
      "\n",
      "0^2 = 0 (mod 9)\n",
      "1^2 = 1 (mod 9)\n",
      "2^2 = 4 (mod 9)\n",
      "3^2 = 0 (mod 9)\n",
      "4^2 = 7 (mod 9)\n",
      "5^2 = 7 (mod 9)\n",
      "6^2 = 0 (mod 9)\n",
      "7^2 = 4 (mod 9)\n",
      "8^2 = 1 (mod 9)\n",
      "\n",
      "Quadratic residues in Z_9: {0, 1, 4, 7}\n"
     ]
    }
   ],
   "source": [
    "# Print k-th powers mod n. Start with power = 2\n",
    "\n",
    "n = 9\n",
    "power = 2\n",
    "print(f'{power}-powers in Z_{n}\\n')\n",
    "for x in range(n):\n",
    "    print(f'{x}^{power} = {x ** power % n} (mod {n})')\n",
    "\n",
    "print(f'\\nQuadratic residues in Z_{n}:', quad_residues(n))"
   ]
  },
  {
   "cell_type": "code",
   "execution_count": 3,
   "id": "e036722e-a390-460c-971c-4dc4854c6106",
   "metadata": {},
   "outputs": [
    {
     "name": "stdout",
     "output_type": "stream",
     "text": [
      "+-----------+-------------------------------------------------------------------------------------+-----------------+\n",
      "|   modulus | quadratic residues                                                                  |   # of residues |\n",
      "+===========+=====================================================================================+=================+\n",
      "|        49 | {0, 1, 2, 4, 8, 9, 11, 15, 16, 18, 22, 23, 25, 29, 30, 32, 36, 37, 39, 43, 44, 46}  |              22 |\n",
      "+-----------+-------------------------------------------------------------------------------------+-----------------+\n",
      "|        50 | {0, 1, 4, 6, 9, 11, 14, 16, 19, 21, 24, 25, 26, 29, 31, 34, 36, 39, 41, 44, 46, 49} |              22 |\n",
      "+-----------+-------------------------------------------------------------------------------------+-----------------+\n",
      "|        51 | {0, 1, 34, 33, 4, 36, 9, 42, 43, 13, 15, 16, 49, 18, 19, 21, 25, 30}                |              18 |\n",
      "+-----------+-------------------------------------------------------------------------------------+-----------------+\n"
     ]
    }
   ],
   "source": [
    "# Nonzero quadratic residues in Z_n:\n",
    "from tabulate import tabulate\n",
    "\n",
    "table = []\n",
    "\n",
    "for i in range(49,52):\n",
    "    qr = quad_residues(i)\n",
    "    table.append([i, qr, len(qr)])\n",
    "\n",
    "head = ['modulus', 'quadratic residues', '# of residues']\n",
    "print(tabulate(table, headers=head, tablefmt=\"grid\"))\n"
   ]
  },
  {
   "cell_type": "code",
   "execution_count": 4,
   "id": "a90c3a9f-f886-49db-9b27-da4ba14b3b35",
   "metadata": {},
   "outputs": [],
   "source": [
    "## Give a polynomial as a list of coefficients [a_0, a_1, ... , a_n] \n",
    "## f(x) = a_0 + a_1*x + a_2*x^2 + ... + a_n*x^n and a *prime* modulus p\n",
    "## NOTE: this only works for quadratic or cubic polynomials AND when p is prime\n",
    "def is_irreducible_quad_or_cubic(coeffs:list, p):\n",
    "    # Make the polynomial function\n",
    "    def f(x):\n",
    "        res = 0\n",
    "        for i in range(len(coeffs)):\n",
    "            res += coeffs[i] * (x ** i) % p\n",
    "        return res\n",
    "\n",
    "    # This is just formatting how to print the polynomial\n",
    "    pol_str = str(coeffs[0] % p) + ' + ' + str(coeffs[1] % p) + 'x'\n",
    "    for i in range(2, len(coeffs)):\n",
    "        pol_str = pol_str + ' + ' + str(coeffs[i] % p) + f'x^{i}'\n",
    "\n",
    "    irred = True\n",
    "    factors = []\n",
    "\n",
    "    # Check the outputs of f\n",
    "    for n in range(p):\n",
    "        # print(f'f({n}) = {f(n) % p}')\n",
    "        if f(n) % p == 0:\n",
    "            factors.append(n)            \n",
    "            irred = False\n",
    "    \n",
    "    if irred == False:\n",
    "        print('f(x) =', pol_str, f'is not irreducible in Z_{p}:\\n')\n",
    "\n",
    "        for n in factors:\n",
    "            print(f'f({n}) = {f(n) % p}')\n",
    "        \n",
    "        return False\n",
    "    \n",
    "    \n",
    "    print(pol_str, f'is irreducible in Z_{p}')\n",
    "    return True"
   ]
  },
  {
   "cell_type": "code",
   "execution_count": 5,
   "id": "aefe0359-a136-4343-acd1-63a27ab672e9",
   "metadata": {},
   "outputs": [
    {
     "name": "stdout",
     "output_type": "stream",
     "text": [
      "f(x) = 1 + 5x + 1x^2 is not irreducible in Z_51:\n",
      "\n",
      "f(5) = 0\n",
      "f(41) = 0\n"
     ]
    },
    {
     "data": {
      "text/plain": [
       "False"
      ]
     },
     "execution_count": 5,
     "metadata": {},
     "output_type": "execute_result"
    }
   ],
   "source": [
    "is_irreducible_quad_or_cubic([1,5,1], 51)"
   ]
  },
  {
   "cell_type": "code",
   "execution_count": 6,
   "id": "31ad94d1-918e-4996-8678-9989ea4bac25",
   "metadata": {},
   "outputs": [
    {
     "name": "stdout",
     "output_type": "stream",
     "text": [
      "Powers of 3 (mod 10)\n",
      "\n",
      "3^1 = 3 (mod 10)\n",
      "3^2 = 9 (mod 10)\n",
      "3^3 = 7 (mod 10)\n",
      "3^4 = 1 (mod 10)\n",
      "3^5 = 3 (mod 10)\n",
      "3^6 = 9 (mod 10)\n",
      "3^7 = 7 (mod 10)\n",
      "3^8 = 1 (mod 10)\n",
      "3^9 = 3 (mod 10)\n",
      "3^10 = 9 (mod 10)\n",
      "3^11 = 7 (mod 10)\n",
      "3^12 = 1 (mod 10)\n",
      "3^13 = 3 (mod 10)\n",
      "3^14 = 9 (mod 10)\n",
      "3^15 = 7 (mod 10)\n",
      "3^16 = 1 (mod 10)\n",
      "3^17 = 3 (mod 10)\n",
      "3^18 = 9 (mod 10)\n",
      "3^19 = 7 (mod 10)\n",
      "3^20 = 1 (mod 10)\n"
     ]
    }
   ],
   "source": [
    "# Larger powers\n",
    "n = 10\n",
    "x = 3\n",
    "print(f'Powers of {x} (mod {n})\\n')\n",
    "for power in range(1,2*n+1):\n",
    "    print(f'{x}^{power} = {x ** power % n} (mod {n})')"
   ]
  },
  {
   "cell_type": "code",
   "execution_count": 7,
   "id": "1a6cb5f3-489e-49a1-ac9e-d1e9c40ebd7e",
   "metadata": {},
   "outputs": [
    {
     "name": "stdout",
     "output_type": "stream",
     "text": [
      "There are phi(28) = 12 elements x in Z_28 such that gcd(x, 28) = 1\n",
      "+-----+------------------------+-----------------+\n",
      "|   x | Powers of x (mod 28)   |   Order in Z_28 |\n",
      "+=====+========================+=================+\n",
      "|   1 | [1]                    |               1 |\n",
      "+-----+------------------------+-----------------+\n",
      "|   3 | [3, 9, 27, 25, 19, 1]  |               6 |\n",
      "+-----+------------------------+-----------------+\n",
      "|   5 | [5, 25, 13, 9, 17, 1]  |               6 |\n",
      "+-----+------------------------+-----------------+\n",
      "|   9 | [9, 25, 1]             |               3 |\n",
      "+-----+------------------------+-----------------+\n",
      "|  11 | [11, 9, 15, 25, 23, 1] |               6 |\n",
      "+-----+------------------------+-----------------+\n",
      "|  13 | [13, 1]                |               2 |\n",
      "+-----+------------------------+-----------------+\n",
      "|  15 | [15, 1]                |               2 |\n",
      "+-----+------------------------+-----------------+\n",
      "|  17 | [17, 9, 13, 25, 5, 1]  |               6 |\n",
      "+-----+------------------------+-----------------+\n",
      "|  19 | [19, 25, 27, 9, 3, 1]  |               6 |\n",
      "+-----+------------------------+-----------------+\n",
      "|  23 | [23, 25, 15, 9, 11, 1] |               6 |\n",
      "+-----+------------------------+-----------------+\n",
      "|  25 | [25, 9, 1]             |               3 |\n",
      "+-----+------------------------+-----------------+\n",
      "|  27 | [27, 1]                |               2 |\n",
      "+-----+------------------------+-----------------+\n"
     ]
    }
   ],
   "source": [
    "## \"Multiplicative order\" of x mod n\n",
    "def gcd(n, m):\n",
    "    if m == 0: return n\n",
    "    else: return gcd(m, n % m)\n",
    "\n",
    "## Edit this     \n",
    "n = 28\n",
    "\n",
    "orders = []\n",
    "totient = 0\n",
    "\n",
    "for x in range(1, n):\n",
    "\n",
    "    # Skip x with gcd(x, n) not 1, these will never return to one.\n",
    "    if gcd(x, n) != 1: \n",
    "        continue \n",
    "\n",
    "    # Start at second powers of x\n",
    "    i = 2\n",
    "    xlist = [x]\n",
    "    y = x**i % n\n",
    "\n",
    "    # Since gcd(x, n) = 1, this must terminate\n",
    "    while y != x:\n",
    "        xlist.append(y)\n",
    "        i += 1\n",
    "        y = y*x % n\n",
    "    \n",
    "    i -= 1\n",
    "\n",
    "    ## Keep track of the number of invertible elements to report the totient\n",
    "    totient += 1 \n",
    "    orders.append([x, xlist, i])\n",
    "\n",
    "## Table formatting\n",
    "head = ['x', f'Powers of x (mod {n})', f'Order in Z_{n}']\n",
    "print(f'There are phi({n}) = {totient} elements x in Z_{n} such that gcd(x, {n}) = 1')\n",
    "print(tabulate(orders, headers=head, tablefmt=\"grid\"))\n"
   ]
  }
 ],
 "metadata": {
  "kernelspec": {
   "display_name": "Python 3 (ipykernel)",
   "language": "python",
   "name": "python3"
  },
  "language_info": {
   "codemirror_mode": {
    "name": "ipython",
    "version": 3
   },
   "file_extension": ".py",
   "mimetype": "text/x-python",
   "name": "python",
   "nbconvert_exporter": "python",
   "pygments_lexer": "ipython3",
   "version": "3.12.7"
  }
 },
 "nbformat": 4,
 "nbformat_minor": 5
}
