{
 "cells": [
  {
   "cell_type": "code",
   "execution_count": 8,
   "id": "4e0e4f43-8737-4fb3-a657-0ad056158730",
   "metadata": {},
   "outputs": [],
   "source": [
    "def base_2(n):\n",
    "    powers = []\n",
    "\n",
    "    while n > 0: \n",
    "        powers.append(n % 2)\n",
    "        n = n // 2\n",
    "\n",
    "    return powers\n",
    "\n",
    "\n",
    "def k_power_mod_n(a, k, n):\n",
    "    a = a % n\n",
    "\n",
    "    k_base_2 = base_2(k)\n",
    "\n",
    "    a_powers = [a]\n",
    "    \n",
    "    if k_base_2[0]: \n",
    "        ans = a\n",
    "    else: ans = 1\n",
    "\n",
    "    for i in range(1, len(k_base_2)):\n",
    "        a_powers.append(a_powers[i-1]**2 % n)\n",
    "\n",
    "        if k_base_2[i]: \n",
    "            ans = ans * a_powers[i] % n\n",
    "\n",
    "    return ans"
   ]
  },
  {
   "cell_type": "code",
   "execution_count": 6,
   "id": "12dc21f8-d797-4068-a014-0bbe865acdd5",
   "metadata": {},
   "outputs": [
    {
     "name": "stdout",
     "output_type": "stream",
     "text": [
      "primitive root: 23\n"
     ]
    }
   ],
   "source": [
    "p = 314159\n",
    "leave = False\n",
    "\n",
    "for a in range(2, p):\n",
    "    k = 2\n",
    "    while k_power_mod_n(a, k, p) != a:\n",
    "        if k > (p-1)//2:\n",
    "            print('primitive root:', a)\n",
    "            leave = True\n",
    "            break\n",
    "        \n",
    "        k += 1\n",
    "\n",
    "    if leave == True:\n",
    "        break"
   ]
  },
  {
   "cell_type": "code",
   "execution_count": null,
   "id": "e5e7d9da-03f1-4f0b-a45e-637c90ee374f",
   "metadata": {},
   "outputs": [],
   "source": []
  }
 ],
 "metadata": {
  "kernelspec": {
   "display_name": "Python [conda env:base] *",
   "language": "python",
   "name": "conda-base-py"
  },
  "language_info": {
   "codemirror_mode": {
    "name": "ipython",
    "version": 3
   },
   "file_extension": ".py",
   "mimetype": "text/x-python",
   "name": "python",
   "nbconvert_exporter": "python",
   "pygments_lexer": "ipython3",
   "version": "3.12.7"
  }
 },
 "nbformat": 4,
 "nbformat_minor": 5
}
