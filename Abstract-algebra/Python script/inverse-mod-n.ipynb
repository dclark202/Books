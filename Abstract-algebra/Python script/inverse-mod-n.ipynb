{
 "cells": [
  {
   "cell_type": "code",
   "execution_count": 2,
   "id": "31cdcf03-8c46-4388-a209-b0f9874bfdea",
   "metadata": {},
   "outputs": [],
   "source": [
    "def gen_euc_alg(n, m):\n",
    "    old_r, r = n, m\n",
    "    old_s, s = 1, 0\n",
    "    old_t, t = 0, 1\n",
    "\n",
    "    while r > 0:\n",
    "        q = old_r // r\n",
    "\n",
    "        old_r, r = r, old_r - q * r\n",
    "        old_s, s = s, old_s - q * s\n",
    "        old_t, t = t, old_t - q * t\n",
    "\n",
    "    return old_s, n, old_t, m, old_r  "
   ]
  },
  {
   "cell_type": "code",
   "execution_count": 3,
   "id": "587e26c4-ee33-4e5a-9198-01106ae287c6",
   "metadata": {},
   "outputs": [],
   "source": [
    "def inverse_mod_n(a, n=2):\n",
    "    a_red = a % n\n",
    "    if a != a_red:\n",
    "        print(f'Replacing a = {a} with {a_red} (mod {n})\\n')\n",
    "        a = a_red\n",
    "    \n",
    "\n",
    "    s, _, t, _, r = gen_euc_alg(n, a)\n",
    "    \n",
    "    if r != 1:\n",
    "        print(f'{a} is not invertible modulo {n}\\n')\n",
    "        print(f'Reason: The gcd of {a} and {n} is {r}, not 1' )\n",
    "        return \n",
    "        \n",
    "    t = t % n\n",
    "\n",
    "    print(f'The inverse of {a} (mod {n}) is {t}.\\n')\n",
    "    print(f'Reason: {a} * {t} = {a * t} = {a * t // n} * {n} + 1 = 1 (mod {n})')\n",
    "    return t "
   ]
  },
  {
   "cell_type": "code",
   "execution_count": 4,
   "id": "a2c222ec-41f4-4a7e-a9f5-73d7873180cd",
   "metadata": {},
   "outputs": [],
   "source": [
    "## Solve for all solutions to the linear congruence a * x = c (mod n)\n",
    "def solve_linear_congruence(a, c, n):\n",
    "    \n",
    "    s, _, t, _, d = gen_euc_alg(a, n)\n",
    "    solutions = []\n",
    "\n",
    "    if c % d != 0:\n",
    "        print(f'{a}x = {c} (mod {n}) has no solutions')\n",
    "        return solutions\n",
    "\n",
    "    for k in range(d): \n",
    "        solutions.append((c * s + k * n)//d % n)\n",
    "\n",
    "    if d == 1: \n",
    "        print(f'{a}x = {c} (mod {n}) has a unique solution: x = {solutions[0]}')\n",
    "    \n",
    "    else: \n",
    "        print(f'{a}x = {c} (mod {n}) has {d} distinct solutions: {solutions}')\n",
    "    \n",
    "    return solutions\n"
   ]
  },
  {
   "cell_type": "code",
   "execution_count": 5,
   "id": "0a2b48d6-8651-44f8-bdb3-0a56710ff0c7",
   "metadata": {},
   "outputs": [
    {
     "name": "stdout",
     "output_type": "stream",
     "text": [
      "The inverse of 2 (mod 11) is 6.\n",
      "\n",
      "Reason: 2 * 6 = 12 = 1 * 11 + 1 = 1 (mod 11)\n"
     ]
    }
   ],
   "source": [
    "a = 2\n",
    "n = 11\n",
    "b = inverse_mod_n(a, n)"
   ]
  },
  {
   "cell_type": "code",
   "execution_count": 19,
   "id": "c370fad1-80ea-46e8-8466-183024e94b45",
   "metadata": {},
   "outputs": [
    {
     "name": "stdout",
     "output_type": "stream",
     "text": [
      "6025x = 11113 (mod 511111) has a unique solution: x = 451052\n",
      "\n",
      "Check:\n",
      "451052 * 6025 = 2717588300 = 11113 (mod 511111)\n"
     ]
    }
   ],
   "source": [
    "a = 6025\n",
    "c = 11113\n",
    "n = 511111\n",
    "solns = solve_linear_congruence(a, c, n)\n",
    "\n",
    "if solns: \n",
    "    print('\\nCheck:')\n",
    "    for sol in solns:\n",
    "        print(f'{sol} * {a} = {sol * a} = {sol * a % n} (mod {n})')"
   ]
  },
  {
   "cell_type": "code",
   "execution_count": 12,
   "id": "f3c8b1c0-e653-4482-9d5b-cbb3b98f0aeb",
   "metadata": {},
   "outputs": [
    {
     "data": {
      "text/plain": [
       "[1, 2, 0, 8, 2]"
      ]
     },
     "execution_count": 12,
     "metadata": {},
     "output_type": "execute_result"
    }
   ],
   "source": [
    "gen_euc_alg(2,8)"
   ]
  },
  {
   "cell_type": "code",
   "execution_count": 14,
   "id": "eaa3ef3e-aa97-4c47-a650-5004127d2f9a",
   "metadata": {},
   "outputs": [],
   "source": [
    "D=10\n"
   ]
  },
  {
   "cell_type": "code",
   "execution_count": 15,
   "id": "e6229768-8942-4eaf-be56-2085d4528272",
   "metadata": {},
   "outputs": [
    {
     "data": {
      "text/plain": [
       "False"
      ]
     },
     "execution_count": 15,
     "metadata": {},
     "output_type": "execute_result"
    }
   ],
   "source": [
    "8==D"
   ]
  },
  {
   "cell_type": "code",
   "execution_count": 4,
   "id": "2403ad78-583c-4a30-9adc-2e141c530432",
   "metadata": {},
   "outputs": [
    {
     "data": {
      "text/plain": [
       "(2440474097, 28433, -6939, 10000000000, 1)"
      ]
     },
     "execution_count": 4,
     "metadata": {},
     "output_type": "execute_result"
    }
   ],
   "source": [
    "gen_euc_alg(28433,10000000000)"
   ]
  },
  {
   "cell_type": "code",
   "execution_count": null,
   "id": "f74de58e-4a00-4df1-8e4c-f192a93f0f7b",
   "metadata": {},
   "outputs": [],
   "source": []
  }
 ],
 "metadata": {
  "kernelspec": {
   "display_name": "Python [conda env:base] *",
   "language": "python",
   "name": "conda-base-py"
  },
  "language_info": {
   "codemirror_mode": {
    "name": "ipython",
    "version": 3
   },
   "file_extension": ".py",
   "mimetype": "text/x-python",
   "name": "python",
   "nbconvert_exporter": "python",
   "pygments_lexer": "ipython3",
   "version": "3.12.7"
  }
 },
 "nbformat": 4,
 "nbformat_minor": 5
}
