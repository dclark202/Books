{
 "cells": [
  {
   "cell_type": "code",
   "execution_count": 1,
   "id": "69654cb0-a955-46cb-b341-45d2ff7cf752",
   "metadata": {
    "jupyter": {
     "source_hidden": true
    }
   },
   "outputs": [],
   "source": [
    "## Alphabets\n",
    "\n",
    "# The first 32 ASCII characters are not text and wouldn't make sense here\n",
    "int_to_ASCII_text = {(i - 32): chr(i) for i in range(32, 128)} \n",
    "ASCII_text_to_int = {value: key for key, value in int_to_ASCII_text.items()}\n",
    "\n",
    "\n",
    "# This alphabet includes space\n",
    "int_to_alph = {1:'A', 2:'B', 3:'C', 4:'D', 5:'E', 6:'F', 7:'G', 8:'H', \n",
    "               9:'I', 10:'J', 11:'K', 12:'L', 13:'M', 14:'N', 15:'O', 16:'P', 17:'Q', \n",
    "               18:'R', 19:'S', 20:'T', 21:'U', 22:'V', 23:'W', 24:'X', 25:'Y', 26:'Z', 0:' '}\n",
    "\n",
    "alph_to_int = {value: key for key, value in int_to_alph.items()}\n",
    "\n",
    "\n",
    "# The classic Caesar cypher doesn't use space as a character\n",
    "int_to_alph_ns = {1:'A', 2:'B', 3:'C', 4:'D', 5:'E', 6:'F', 7:'G', 8:'H', \n",
    "                  9:'I', 10:'J', 11:'K', 12:'L', 13:'M', 14:'N', 15:'O', 16:'P', 17:'Q', \n",
    "                  18:'R', 19:'S', 20:'T', 21:'U', 22:'V', 23:'W', 24:'X', 25:'Y', 0:'Z'}\n",
    "\n",
    "alph_to_int_ns = {value: key for key, value in int_to_alph_ns.items()}\n"
   ]
  },
  {
   "cell_type": "code",
   "execution_count": 11,
   "id": "7268f3cc-6299-4fa7-8f4d-be07b3450563",
   "metadata": {},
   "outputs": [],
   "source": [
    "## The classic story is that Caeser shifted his letters by 3 to obfuscate strategic battle plans\n",
    "## If this really fooled Caesar's enemies then they weren't too smart\n",
    "def caeser_ciph(txt:str, m, b, include_space=True):\n",
    "    txt = txt.upper()\n",
    "    \n",
    "    out_str = ''\n",
    "\n",
    "    if include_space:\n",
    "        for i in range(len(txt)):\n",
    "            out_str += int_to_alph[(alph_to_int[str(txt[i])] + shift) % 27]\n",
    "\n",
    "    else: \n",
    "        for i in range(len(txt)):\n",
    "            if txt[i] == ' ':\n",
    "                out_str += ' '\n",
    "                \n",
    "            else: \n",
    "                out_str += int_to_alph_ns[(m * alph_to_int_ns[str(txt[i])] + b) % 26]\n",
    "        \n",
    "    return out_str\n",
    "\n",
    "\n",
    "## Applies the affine cipher y = m * x + b to the input character in the ASCII alphabet\n",
    "def ASCII_ciph(txt:str, m, b):\n",
    "    out_str = ''\n",
    "\n",
    "    for i in range(len(txt)):\n",
    "        out_str += int_to_ASCII_text[(m * ASCII_text_to_int[str(txt[i])] + b) % 95]\n",
    "\n",
    "    return out_str"
   ]
  },
  {
   "cell_type": "code",
   "execution_count": 16,
   "id": "a8e5ed59-241a-49af-bb63-a378d598536d",
   "metadata": {},
   "outputs": [],
   "source": [
    "## Example \n",
    "text = 'tomato'\n",
    "\n",
    "caesar = caeser_ciph(txt=text, m=13, b=1, include_space=False)\n",
    "\n",
    "ASCII = ASCII_ciph(txt=text, m=53, b=31)"
   ]
  },
  {
   "cell_type": "code",
   "execution_count": 17,
   "id": "2dd67f1e-7bfe-46d4-af65-fe9bfbf00ecc",
   "metadata": {},
   "outputs": [
    {
     "name": "stdout",
     "output_type": "stream",
     "text": [
      "Caesar cipher:\n",
      "ANNNAN\n",
      "\n",
      "Extended Caesar cipher using ASCII characters:\n",
      "2F;X2F\n"
     ]
    }
   ],
   "source": [
    "print('Caesar cipher:')\n",
    "print(caesar)\n",
    "print()\n",
    "\n",
    "print('Extended Caesar cipher using ASCII characters:')\n",
    "print(ASCII)"
   ]
  },
  {
   "cell_type": "code",
   "execution_count": null,
   "id": "c3ceddbc-6284-478a-bb15-3d01ed5df692",
   "metadata": {},
   "outputs": [],
   "source": []
  }
 ],
 "metadata": {
  "kernelspec": {
   "display_name": "Python 3 (ipykernel)",
   "language": "python",
   "name": "python3"
  },
  "language_info": {
   "codemirror_mode": {
    "name": "ipython",
    "version": 3
   },
   "file_extension": ".py",
   "mimetype": "text/x-python",
   "name": "python",
   "nbconvert_exporter": "python",
   "pygments_lexer": "ipython3",
   "version": "3.12.7"
  }
 },
 "nbformat": 4,
 "nbformat_minor": 5
}
