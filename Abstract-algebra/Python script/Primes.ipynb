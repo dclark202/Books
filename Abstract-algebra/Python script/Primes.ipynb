{
 "cells": [
  {
   "cell_type": "code",
   "execution_count": 1,
   "id": "e54d33dc-546c-48af-a96e-c8a16d1ea8ae",
   "metadata": {},
   "outputs": [],
   "source": [
    "import sympy\n",
    "# sympy already has all of these functions built in, but whatever\n",
    "# you can check my answers with the ones that sympy provides :)"
   ]
  },
  {
   "cell_type": "code",
   "execution_count": 2,
   "id": "87dde596-710a-44e6-8b56-7adebf0e0b4d",
   "metadata": {},
   "outputs": [],
   "source": [
    "# Returns list of primes <= n\n",
    "# This is the 'Sieve of Eratosthenes'\n",
    "def sieve(n):\n",
    "    num_list = [True]*(n+1)\n",
    "\n",
    "    if n <= 1: return []\n",
    "\n",
    "    # These are not primes\n",
    "    num_list[0] = False\n",
    "    num_list[1] = False\n",
    "\n",
    "    i = 2 \n",
    "    while i**2 <= n:\n",
    "        if num_list[i] == True:\n",
    "            j = 0\n",
    "            while i**2 + j * i < n+1:\n",
    "                num_list[i**2 + j * i] = False\n",
    "                j += 1\n",
    "        i += 1\n",
    "\n",
    "    return [i for i in range(n+1) if num_list[i] == True]"
   ]
  },
  {
   "cell_type": "code",
   "execution_count": 6,
   "id": "ed53d4d3-624e-4299-9807-d86ee8a88042",
   "metadata": {},
   "outputs": [],
   "source": [
    "# Check if a number is prime\n",
    "def is_prime(n):\n",
    "    i = 2\n",
    "    while i**2 <= n:\n",
    "        if n % i == 0:\n",
    "            return False\n",
    "        i += 1\n",
    "    return True"
   ]
  },
  {
   "cell_type": "code",
   "execution_count": 36,
   "id": "bcb65e03-bed0-4f76-958c-8eff9406956e",
   "metadata": {},
   "outputs": [],
   "source": [
    "def prime_factorization(n):\n",
    "    orig_n = n\n",
    "    factors = []\n",
    "\n",
    "    i = 2\n",
    "    while i**2 <= n:\n",
    "        if n % i == 0:\n",
    "            while n % i == 0:\n",
    "                factors.append(i)\n",
    "                print(f'factor found: {i}')\n",
    "                n = n // i\n",
    "        i += 1\n",
    "\n",
    "    # If n has no further divisors < sqrt(n) then what remains must be prime\n",
    "    if n > 1: \n",
    "        factors.append(n)\n",
    "        print(f'factor found: {n}')\n",
    "        \n",
    "    outstr = str(factors[0])\n",
    "\n",
    "    if len(factors) == 1: \n",
    "        print(f'{orig_n} is prime')\n",
    "\n",
    "    else: \n",
    "        for p in factors[1:]: outstr += ' * ' + str(p)\n",
    "        print(f'The prime factorization of {orig_n} is {outstr}')\n",
    "\n",
    "    return factors"
   ]
  },
  {
   "cell_type": "code",
   "execution_count": 42,
   "id": "c4f805de-279f-45c3-97f9-5d604a08526e",
   "metadata": {},
   "outputs": [
    {
     "name": "stdout",
     "output_type": "stream",
     "text": [
      "factor found: 2\n",
      "factor found: 3\n",
      "factor found: 5\n",
      "factor found: 17\n",
      "factor found: 73\n",
      "factor found: 101\n",
      "factor found: 137\n",
      "factor found: 5882353\n",
      "The prime factorization of 3030303030303030 is 2 * 3 * 5 * 17 * 73 * 101 * 137 * 5882353\n"
     ]
    }
   ],
   "source": [
    "factors = prime_factorization(3030303030303030)\n",
    "# Check if these really are primes!\n",
    "#print('\\nSanity check:')\n",
    "#for p in factors:\n",
    "\n",
    "#    print(p, 'is prime:', is_prime(p))"
   ]
  },
  {
   "cell_type": "code",
   "execution_count": null,
   "id": "822736cc-aa95-437f-b783-aa8d2ca20867",
   "metadata": {},
   "outputs": [],
   "source": []
  }
 ],
 "metadata": {
  "kernelspec": {
   "display_name": "Python [conda env:base] *",
   "language": "python",
   "name": "conda-base-py"
  },
  "language_info": {
   "codemirror_mode": {
    "name": "ipython",
    "version": 3
   },
   "file_extension": ".py",
   "mimetype": "text/x-python",
   "name": "python",
   "nbconvert_exporter": "python",
   "pygments_lexer": "ipython3",
   "version": "3.12.7"
  }
 },
 "nbformat": 4,
 "nbformat_minor": 5
}
