{
 "cells": [
  {
   "cell_type": "code",
   "execution_count": 2,
   "id": "7e138b38-0ed4-42cf-a73b-70289efff2f1",
   "metadata": {},
   "outputs": [],
   "source": [
    "# Clever computation of Euler's totient function\n",
    "# Challenges: (1) show why this works\n",
    "#             (2) what is the runtime efficiency of this algorithm?\n",
    "\n",
    "def totient(n):\n",
    "    if n < 1: return 0\n",
    "        \n",
    "    res = n\n",
    "    i = 2\n",
    "    \n",
    "    while i^2 <= n:\n",
    "        if n % i == 0:\n",
    "            while n % i == 0:\n",
    "                n = n // i\n",
    "            res -= res // i\n",
    "        i += 1\n",
    "\n",
    "    if n > 1: res -= res // n\n",
    "\n",
    "    return res\n",
    "\n"
   ]
  },
  {
   "cell_type": "code",
   "execution_count": 3,
   "id": "10096100-8ba6-4099-a16b-c6e4902cbad5",
   "metadata": {},
   "outputs": [],
   "source": [
    "def gcd(n, m):\n",
    "    if m == 0: return n\n",
    "    else: return gcd(m, n % m)\n",
    "\n",
    "def return_coprime(n):\n",
    "    results = []\n",
    "    for i in range(n+1):\n",
    "        if gcd(n, i) == 1:\n",
    "            results.append(i)\n",
    "\n",
    "    return results"
   ]
  },
  {
   "cell_type": "code",
   "execution_count": 4,
   "id": "5cbd1301-db8f-4838-a2b7-826806a79db7",
   "metadata": {},
   "outputs": [
    {
     "data": {
      "text/plain": [
       "12"
      ]
     },
     "execution_count": 4,
     "metadata": {},
     "output_type": "execute_result"
    }
   ],
   "source": [
    "totient(21)\n"
   ]
  },
  {
   "cell_type": "code",
   "execution_count": null,
   "id": "df16dd7a-6857-47d4-98ad-a5a16b056a4c",
   "metadata": {},
   "outputs": [],
   "source": [
    "res = n\n",
    "i = 2\n",
    "\n",
    "while i^2 <= n:\n",
    "    if n % i == 0:\n",
    "        while n % i == 0:\n",
    "            n = n // i\n",
    "        res -= res // i\n",
    "    i += 1"
   ]
  }
 ],
 "metadata": {
  "kernelspec": {
   "display_name": "Python 3 (ipykernel)",
   "language": "python",
   "name": "python3"
  },
  "language_info": {
   "codemirror_mode": {
    "name": "ipython",
    "version": 3
   },
   "file_extension": ".py",
   "mimetype": "text/x-python",
   "name": "python",
   "nbconvert_exporter": "python",
   "pygments_lexer": "ipython3",
   "version": "3.12.7"
  }
 },
 "nbformat": 4,
 "nbformat_minor": 5
}
