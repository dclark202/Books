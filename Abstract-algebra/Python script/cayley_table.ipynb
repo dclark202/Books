{
 "cells": [
  {
   "cell_type": "code",
   "execution_count": 3,
   "id": "74148d62-7434-436d-bf11-e427d6c63f91",
   "metadata": {
    "jupyter": {
     "source_hidden": true
    }
   },
   "outputs": [],
   "source": [
    "from tabulate import tabulate\n",
    "\n",
    "def gcd(n, m):\n",
    "    if m == 0: return n\n",
    "    else: return gcd(m, n % m)"
   ]
  },
  {
   "cell_type": "code",
   "execution_count": 9,
   "id": "4293ee5a-3e49-478d-9623-ecf5b3f4c933",
   "metadata": {},
   "outputs": [],
   "source": [
    "## Returns Cayley table for Z_n with operation either 'add' or 'mult'\n",
    "def cayley_table(n, operation='mult'):\n",
    "    if operation == 'mult':\n",
    "        tots = []\n",
    "        for k in range(1, n):\n",
    "            if gcd(k, n) == 1:\n",
    "                tots.append(k)\n",
    "                \n",
    "        table = []\n",
    "        \n",
    "        for i in range(len(tots)):\n",
    "            temp = [tots[i]]\n",
    "            for j in range(len(tots)):\n",
    "                temp.append((tots[i] * tots[j]) % n)\n",
    "            table.append(temp)\n",
    "    \n",
    "        head = ['*'] + tots\n",
    "        print(f'Cayley table for (U_{n}, *)')\n",
    "        print(tabulate(table, headers=head, tablefmt=\"grid\"))\n",
    "\n",
    "    if operation == 'add':\n",
    "        terms = [i for i in range(n)]\n",
    "\n",
    "        table = []\n",
    "\n",
    "        for i in range(len(terms)):\n",
    "            temp = [terms[i]]\n",
    "            for j in range(len(terms)):\n",
    "                temp.append((terms[i] + terms[j]) % n)\n",
    "            table.append(temp)\n",
    "    \n",
    "        head = ['+'] + terms\n",
    "        print(f'Cayley table for (Z_{n}, +)')\n",
    "        print(tabulate(table, headers=head, tablefmt=\"grid\"))\n",
    "        \n",
    "    return"
   ]
  },
  {
   "cell_type": "code",
   "execution_count": 10,
   "id": "244c53dd-2bfb-469e-a19c-19fbde8a4629",
   "metadata": {},
   "outputs": [
    {
     "name": "stdout",
     "output_type": "stream",
     "text": [
      "Cayley table for (U_8, *)\n",
      "+-----+-----+-----+-----+-----+\n",
      "|   * |   1 |   3 |   5 |   7 |\n",
      "+=====+=====+=====+=====+=====+\n",
      "|   1 |   1 |   3 |   5 |   7 |\n",
      "+-----+-----+-----+-----+-----+\n",
      "|   3 |   3 |   1 |   7 |   5 |\n",
      "+-----+-----+-----+-----+-----+\n",
      "|   5 |   5 |   7 |   1 |   3 |\n",
      "+-----+-----+-----+-----+-----+\n",
      "|   7 |   7 |   5 |   3 |   1 |\n",
      "+-----+-----+-----+-----+-----+\n"
     ]
    }
   ],
   "source": [
    "cayley_table(8, operation='mult')"
   ]
  },
  {
   "cell_type": "code",
   "execution_count": null,
   "id": "e888424f-facd-40a7-a71b-8d668162ed4f",
   "metadata": {},
   "outputs": [],
   "source": []
  }
 ],
 "metadata": {
  "kernelspec": {
   "display_name": "Python 3 (ipykernel)",
   "language": "python",
   "name": "python3"
  },
  "language_info": {
   "codemirror_mode": {
    "name": "ipython",
    "version": 3
   },
   "file_extension": ".py",
   "mimetype": "text/x-python",
   "name": "python",
   "nbconvert_exporter": "python",
   "pygments_lexer": "ipython3",
   "version": "3.12.7"
  }
 },
 "nbformat": 4,
 "nbformat_minor": 5
}
