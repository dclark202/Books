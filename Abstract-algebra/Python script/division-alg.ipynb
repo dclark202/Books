{
 "cells": [
  {
   "cell_type": "code",
   "execution_count": 17,
   "id": "e8662fd2-ac83-4e0d-bd29-44728dd0c888",
   "metadata": {},
   "outputs": [
    {
     "name": "stdout",
     "output_type": "stream",
     "text": [
      "\n",
      "123328656593 = 173 * 712882408 + 9\n"
     ]
    }
   ],
   "source": [
    "def div_alg(n,m):\n",
    "    ## Challenge 1: Make this code work for negative inputs of n and m as well\n",
    "    if m <= 0 or n <= 0:\n",
    "        print('Bad input')\n",
    "        return \n",
    "    \n",
    "    k = 0 \n",
    "    while n - k * m >= 0:\n",
    "        #print(f'k = {k}, {n - k * m} left over')\n",
    "        k += 1\n",
    "    \n",
    "    q = k - 1\n",
    "    r = n - (k - 1) * m\n",
    "    \n",
    "    print(f'\\n{n} = {m} * {q} + {r}')\n",
    "    return \n",
    "\n",
    "## Challenge 2: This code is pretty slow (O(n)). Can you modify it so that the runtime is O(log n)?\n",
    "div_alg(123328656593,173)\n",
    "\n"
   ]
  },
  {
   "cell_type": "code",
   "execution_count": null,
   "id": "fe7ccd3c-3b66-4dde-a312-a0921b4303f3",
   "metadata": {},
   "outputs": [],
   "source": []
  }
 ],
 "metadata": {
  "kernelspec": {
   "display_name": "Python 3 (ipykernel)",
   "language": "python",
   "name": "python3"
  },
  "language_info": {
   "codemirror_mode": {
    "name": "ipython",
    "version": 3
   },
   "file_extension": ".py",
   "mimetype": "text/x-python",
   "name": "python",
   "nbconvert_exporter": "python",
   "pygments_lexer": "ipython3",
   "version": "3.12.7"
  }
 },
 "nbformat": 4,
 "nbformat_minor": 5
}
