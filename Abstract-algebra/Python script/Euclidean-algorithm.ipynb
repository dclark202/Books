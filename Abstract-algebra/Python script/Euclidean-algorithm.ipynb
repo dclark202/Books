{
 "cells": [
  {
   "cell_type": "code",
   "execution_count": 25,
   "id": "1c55e427-f980-4c27-a81b-b15fe18442ce",
   "metadata": {},
   "outputs": [],
   "source": [
    "## Euclidean algorithm\n",
    "def euc_alg_show(n, m):\n",
    "    ## Some rearranging to assume that n >= m > 0 \n",
    "    if m < 0: return euc_alg_show(-m, n)\n",
    "    if n < 0: return euc_alg_show(m, -n)\n",
    "    if m > n: return euc_alg_show(m, n)\n",
    "    \n",
    "    if m == 0: \n",
    "        print(f'The gcd is {n}')\n",
    "        return\n",
    "        \n",
    "    ## Get quotient and remainder\n",
    "    ## q here is just for show, you only need to compute r for the alg to work\n",
    "    q = n // m\n",
    "    r = n % m\n",
    "\n",
    "    print(f'{n} = {m} * {q} + {r}')\n",
    "\n",
    "    ## Process terminates when the remainder is 0\n",
    "    if r == 0: \n",
    "        print(f'\\nThe gcd is {m}\\n')\n",
    "        return \n",
    "        \n",
    "    return euc_alg_show(m, r)\n",
    "\n",
    "\n",
    "## Challenge: produce a pair of numbers for which this Euclidean algorithm \"takes the longest\""
   ]
  },
  {
   "cell_type": "code",
   "execution_count": 26,
   "id": "7efaa5fd-0854-42b2-9819-ac027690f5ed",
   "metadata": {},
   "outputs": [
    {
     "name": "stdout",
     "output_type": "stream",
     "text": [
      "456 = 123 * 3 + 87\n",
      "123 = 87 * 1 + 36\n",
      "87 = 36 * 2 + 15\n",
      "36 = 15 * 2 + 6\n",
      "15 = 6 * 2 + 3\n",
      "6 = 3 * 2 + 0\n",
      "\n",
      "The gcd is 3\n",
      "\n"
     ]
    }
   ],
   "source": [
    "#euc_alg_show(4279275, 1241240)\n",
    "euc_alg_show(123,456)\n",
    "#euc_alg_show(24,42)"
   ]
  },
  {
   "cell_type": "code",
   "execution_count": 33,
   "id": "ea3d04a1-c1fa-4fc3-b1e3-583ebe656a03",
   "metadata": {},
   "outputs": [],
   "source": [
    "## Generalized euclidean algorithm\n",
    "## Challenge: Prove why this algorithm works\n",
    "\n",
    "def gen_euc_alg(n, m):\n",
    "    if m < 0: return gen_euc_alg(-m, n)\n",
    "    if n < 0: return gen_euc_alg(m, -n)\n",
    "    if m > n: return gen_euc_alg(m, n)\n",
    "\n",
    "    # initialize variables: 1 * n + 0 * m = n\n",
    "    old_r, r = n, m\n",
    "    old_s, s = 1, 0\n",
    "    old_t, t = 0, 1\n",
    "\n",
    "    while r > 0:\n",
    "        q = old_r // r\n",
    "\n",
    "        old_r, r = r, old_r - q * r\n",
    "        old_s, s = s, old_s - q * s\n",
    "        old_t, t = t, old_t - q * t\n",
    "\n",
    "        # Print coefficients of n, m which produce each step in the Euclidean algorithm\n",
    "        print(f'{old_s} * {n} + {old_t} * {m} = {old_r}')\n",
    "        \n",
    "        ## print(old_s * n + old_t * m == old_r)\n",
    "        ## Check if the equation is true should you desire\n",
    "        \n",
    "    print(f'\\nThe gcd of {n} and {m} is {old_r}')\n",
    "    print(f'{old_s} * {n} + {old_t} * {m} = {old_r}\\n')\n",
    "\n",
    "    return"
   ]
  },
  {
   "cell_type": "code",
   "execution_count": 38,
   "id": "b1bd1936-78a6-4af1-ab05-41ea3752a552",
   "metadata": {},
   "outputs": [
    {
     "name": "stdout",
     "output_type": "stream",
     "text": [
      "0 * 73487438743 + 1 * 1347387483 = 1347387483\n",
      "1 * 73487438743 + -54 * 1347387483 = 728514661\n",
      "-1 * 73487438743 + 55 * 1347387483 = 618872822\n",
      "2 * 73487438743 + -109 * 1347387483 = 109641839\n",
      "-11 * 73487438743 + 600 * 1347387483 = 70663627\n",
      "13 * 73487438743 + -709 * 1347387483 = 38978212\n",
      "-24 * 73487438743 + 1309 * 1347387483 = 31685415\n",
      "37 * 73487438743 + -2018 * 1347387483 = 7292797\n",
      "-172 * 73487438743 + 9381 * 1347387483 = 2514227\n",
      "381 * 73487438743 + -20780 * 1347387483 = 2264343\n",
      "-553 * 73487438743 + 30161 * 1347387483 = 249884\n",
      "5358 * 73487438743 + -292229 * 1347387483 = 15387\n",
      "-86281 * 73487438743 + 4705825 * 1347387483 = 3692\n",
      "350482 * 73487438743 + -19115529 * 1347387483 = 619\n",
      "-1838691 * 73487438743 + 100283470 * 1347387483 = 597\n",
      "2189173 * 73487438743 + -119398999 * 1347387483 = 22\n",
      "-60946362 * 73487438743 + 3324056443 * 1347387483 = 3\n",
      "428813707 * 73487438743 + -23387794100 * 1347387483 = 1\n",
      "\n",
      "The gcd of 73487438743 and 1347387483 is 1\n",
      "428813707 * 73487438743 + -23387794100 * 1347387483 = 1\n",
      "\n"
     ]
    }
   ],
   "source": [
    "gen_euc_alg(73487438743,1347387483)"
   ]
  },
  {
   "cell_type": "code",
   "execution_count": 23,
   "id": "c9bc6d23-c155-4507-812d-181a015d5be0",
   "metadata": {},
   "outputs": [],
   "source": [
    "# Simplest form of gcd calculation\n",
    "def gcd(n, m):\n",
    "    if m == 0: return n\n",
    "    else: return gcd(m, n % m)\n",
    "\n",
    "# Returns boolean for coprimality check\n",
    "def is_coprime(n, m):\n",
    "    return gcd(n, m) == 1"
   ]
  },
  {
   "cell_type": "code",
   "execution_count": 22,
   "id": "02a4274e-aa29-4686-a51a-4437d5a6c5da",
   "metadata": {},
   "outputs": [
    {
     "data": {
      "text/plain": [
       "True"
      ]
     },
     "execution_count": 22,
     "metadata": {},
     "output_type": "execute_result"
    }
   ],
   "source": [
    "gcd(30,11)\n",
    "is_coprime(30, 11)"
   ]
  },
  {
   "cell_type": "code",
   "execution_count": null,
   "id": "9dc59f4b-bd92-422c-a727-6ea9c2c695c2",
   "metadata": {},
   "outputs": [],
   "source": []
  }
 ],
 "metadata": {
  "kernelspec": {
   "display_name": "Python 3 (ipykernel)",
   "language": "python",
   "name": "python3"
  },
  "language_info": {
   "codemirror_mode": {
    "name": "ipython",
    "version": 3
   },
   "file_extension": ".py",
   "mimetype": "text/x-python",
   "name": "python",
   "nbconvert_exporter": "python",
   "pygments_lexer": "ipython3",
   "version": "3.12.7"
  }
 },
 "nbformat": 4,
 "nbformat_minor": 5
}
